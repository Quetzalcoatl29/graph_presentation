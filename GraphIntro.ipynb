{
 "cells": [
  {
   "cell_type": "heading",
   "metadata": {},
   "level": 1,
   "source": [
    "Introduction to Graph Dynamic"
   ]
  },
  {
   "cell_type": "heading",
   "metadata": {},
   "level": 2,
   "source": [
    "Create a Graph"
   ]
  },
  {
   "cell_type": "code",
   "execution_count": 8,
   "metadata": {},
   "outputs": [
    {
     "name": "stdout",
     "output_type": "stream",
     "text": [
      "Source:  [0 1 0 2 0 3 0 5 1 2 1 3]\nTarget:  [1 0 2 0 3 0 5 0 2 1 3 1]\nWeight:  [2 2 2 2 4 4 1 1 3 3 2 2]\nVertex:  [0 1 2 3 5]\n"
     ]
    }
   ],
   "source": [
    "from graph.Graph import Graph \n",
    "\n",
    "sources = [0, 1, 0, 2, 0, 3, 0, 5, 1, 2, 1, 3]\n",
    "targets = [1, 0, 2, 0, 3, 0, 5, 0, 2, 1, 3, 1]\n",
    "weights = [2, 2, 2, 2, 4, 4, 1, 1, 3, 3, 2, 2]\n",
    "\n",
    "graph = Graph(sources, targets, weights)\n",
    "\n",
    "graph.print_r()"
   ]
  },
  {
   "cell_type": "heading",
   "metadata": {},
   "level": 2,
   "source": []
  }
 ],
 "metadata": {
  "kernelspec": {
   "display_name": "Python 3",
   "language": "python",
   "name": "python3"
  },
  "language_info": {
   "codemirror_mode": {
    "name": "ipython",
    "version": 3
   },
   "file_extension": ".py",
   "mimetype": "text/x-python",
   "name": "python",
   "nbconvert_exporter": "python",
   "pygments_lexer": "ipython3",
   "version": "3.6.7"
  }
 },
 "nbformat": 4,
 "nbformat_minor": 2
}
