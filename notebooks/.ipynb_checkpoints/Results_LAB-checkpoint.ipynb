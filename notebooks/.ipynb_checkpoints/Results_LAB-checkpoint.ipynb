{
 "cells": [
  {
   "cell_type": "code",
   "execution_count": 45,
   "metadata": {},
   "outputs": [],
   "source": [
    "import os\n",
    "import sys\n",
    "import json\n",
    "import pandas as pd\n",
    "import numpy as np\n",
    "\n",
    "files = []\n",
    "basePath = '../graph_generate/results'\n",
    "\n",
    "def import_file(filename):\n",
    "    file = basePath + '/' + filename\n",
    "    print(\"Filename: \", file)\n",
    "\n",
    "    data_import = {}\n",
    "    with open(file) as json_file:\n",
    "        data_import = json.load(json_file)\n",
    "\n",
    "    return data_import\n",
    "\n",
    "\n",
    "for f in os.listdir(basePath):\n",
    "    if os.path.isfile(os.path.join(basePath, f)) and f.endswith(\".json\"):\n",
    "        files.append(f)"
   ]
  },
  {
   "cell_type": "code",
   "execution_count": 48,
   "metadata": {},
   "outputs": [
    {
     "name": "stdout",
     "output_type": "stream",
     "text": [
      "Filename:  ../graph_generate/results/graph_worst_100_0.3.json\n",
      "          algorithm      time\n",
      "0  rr-bfs-truncated  0.166651\n",
      "1        even-gazit  0.000003\n",
      "2            quinca  0.000002\n",
      "3               abm  0.000015\n",
      "4            forest  0.004297\n"
     ]
    }
   ],
   "source": [
    "for filename in files:\n",
    "    data_import = import_file(filename)\n",
    "    df = pd.DataFrame(data_import)\n",
    "    \n",
    "    name = filename.replace(basePath, \"\").replace(\".json\", \"\")\n",
    "    print(name)\n",
    "    \n",
    "    print(df)\n",
    "    break"
   ]
  },
  {
   "cell_type": "code",
   "execution_count": null,
   "metadata": {},
   "outputs": [],
   "source": []
  }
 ],
 "metadata": {
  "kernelspec": {
   "display_name": "Python 3",
   "language": "python",
   "name": "python3"
  },
  "language_info": {
   "codemirror_mode": {
    "name": "ipython",
    "version": 3
   },
   "file_extension": ".py",
   "mimetype": "text/x-python",
   "name": "python",
   "nbconvert_exporter": "python",
   "pygments_lexer": "ipython3",
   "version": "3.8.2"
  }
 },
 "nbformat": 4,
 "nbformat_minor": 4
}
